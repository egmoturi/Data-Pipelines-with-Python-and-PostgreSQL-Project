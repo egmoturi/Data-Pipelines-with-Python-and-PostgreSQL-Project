{
  "nbformat": 4,
  "nbformat_minor": 0,
  "metadata": {
    "colab": {
      "provenance": [],
      "include_colab_link": true
    },
    "kernelspec": {
      "name": "python3",
      "display_name": "Python 3"
    },
    "language_info": {
      "name": "python"
    }
  },
  "cells": [
    {
      "cell_type": "markdown",
      "metadata": {
        "id": "view-in-github",
        "colab_type": "text"
      },
      "source": [
        "<a href=\"https://colab.research.google.com/github/egmoturi/Data-pipelines-with-python-and-postgreSQL-Project/blob/main/Data_pipelines_with_python_and_postgreSQL.ipynb\" target=\"_parent\"><img src=\"https://colab.research.google.com/assets/colab-badge.svg\" alt=\"Open In Colab\"/></a>"
      ]
    },
    {
      "cell_type": "code",
      "source": [
        "import pandas as pd\n",
        "import numpy as np\n",
        "import psycopg2"
      ],
      "metadata": {
        "id": "drgV8g9YW6Aa"
      },
      "execution_count": 1,
      "outputs": []
    },
    {
      "cell_type": "markdown",
      "source": [
        "Data extractrion"
      ],
      "metadata": {
        "id": "JvlZF3WFYf4v"
      }
    },
    {
      "cell_type": "code",
      "source": [
        "equipment_data = pd.read_csv('/content/equipment_sensor.csv')\n",
        "network_data = pd.read_csv('/content/maintenance_records.csv')\n",
        "maintenance_data = pd.read_csv('/content/network_sensor.csv')"
      ],
      "metadata": {
        "id": "O0fn9sfmY-HP"
      },
      "execution_count": 2,
      "outputs": []
    },
    {
      "cell_type": "markdown",
      "source": [
        "Data transformation "
      ],
      "metadata": {
        "id": "hEQI5bTwaXFB"
      }
    },
    {
      "cell_type": "code",
      "source": [
        "# Remove duplicates from data\n",
        "equipment_data=pd.read_csv(\"/content/equipment_sensor.csv\")\n",
        "maintainance_data=pd.read_csv(\"/content/maintenance_records.csv\")\n",
        "network_sensor=pd.read_csv(\"/content/network_sensor.csv\")\n",
        "\n",
        "# Fix missing data\n",
        "equipment_data = equipment_data.fillna(method='ffill')\n",
        "maintainance_data=maintainance_data.fillna(method='ffill')\n",
        "network_sensor=network_sensor.fillna(method='ffill')\n",
        "\n",
        "# Normalize the sensor reading in equipment data\n",
        "equipment_data['sensor_reading'] = (equipment_data['sensor_reading'] - equipment_data['sensor_reading'].mean()) / equipment_data['sensor_reading'].std()"
      ],
      "metadata": {
        "id": "AtJtGPGOacvy"
      },
      "execution_count": 3,
      "outputs": []
    },
    {
      "cell_type": "code",
      "source": [
        "# Aggregate the equipment data to get the total number of equipment failures\n",
        "equipment_failures = equipment_data.groupby(['ID']).size().reset_index(name='total_failures')\n",
        "\n",
        "# Aggregate the equipment data to get the average time between failures\n",
        "equipment_data['datetime'] = pd.to_datetime(equipment_data['date'] + ' ' + equipment_data['time'])\n",
        "equipment_data['time_between_failures'] = equipment_data.groupby(['ID'])['datetime'].diff()\n",
        "equipment_data['time_between_failures'] = equipment_data['time_between_failures'].dt.total_seconds() / 3600\n",
        "equipment_avg_time_between_failures = equipment_data.groupby(['ID'])['time_between_failures'].mean().reset_index(name='avg_time_between_failures')"
      ],
      "metadata": {
        "id": "Ec_DM9K7bj7I"
      },
      "execution_count": 4,
      "outputs": []
    },
    {
      "cell_type": "code",
      "source": [
        "# Join the datasets\n",
        "df_joined = pd.concat([equipment_data, network_data, maintenance_data], axis=0)\n"
      ],
      "metadata": {
        "id": "Abg9JPb2dEkO"
      },
      "execution_count": 5,
      "outputs": []
    },
    {
      "cell_type": "code",
      "source": [
        "#Data loading to postgreSQL database \n",
        "!curl ipecho.net/plain"
      ],
      "metadata": {
        "colab": {
          "base_uri": "https://localhost:8080/"
        },
        "id": "fEp_Jul05Fl6",
        "outputId": "8e04e277-63f6-446a-8029-487286344813"
      },
      "execution_count": 6,
      "outputs": [
        {
          "output_type": "stream",
          "name": "stdout",
          "text": [
            "35.188.229.105"
          ]
        }
      ]
    },
    {
      "cell_type": "code",
      "source": [
        "pip install psycopg2"
      ],
      "metadata": {
        "colab": {
          "base_uri": "https://localhost:8080/"
        },
        "id": "LLcMVapB52jq",
        "outputId": "bd48acf8-1b56-427c-db2b-8d66410e3265"
      },
      "execution_count": 7,
      "outputs": [
        {
          "output_type": "stream",
          "name": "stdout",
          "text": [
            "Looking in indexes: https://pypi.org/simple, https://us-python.pkg.dev/colab-wheels/public/simple/\n",
            "Requirement already satisfied: psycopg2 in /usr/local/lib/python3.9/dist-packages (2.9.5)\n"
          ]
        }
      ]
    },
    {
      "cell_type": "code",
      "source": [
        "import psycopg2"
      ],
      "metadata": {
        "id": "pl-QAa_7FqbU"
      },
      "execution_count": 8,
      "outputs": []
    },
    {
      "cell_type": "code",
      "source": [
        "conn = psycopg2.connect(\n",
        "    host=\"34.122.11.163\",\n",
        "    database=\"eric123\",\n",
        "    user=\"kamulu2\",\n",
        "    password=\"test\"\n",
        ")"
      ],
      "metadata": {
        "id": "9n1aCnN4F7IF"
      },
      "execution_count": 9,
      "outputs": []
    },
    {
      "cell_type": "code",
      "source": [
        "# create a cursor object\n",
        "#cur = conn.cursor()\n",
        "#df_joined.to_sql(name=\"equipment_sensor,maintenance_records,network_sensor\", con=conn, if_exists=\"append\", index=False)\n",
        "#cur.close()\n",
        "#conn.close()\n",
        "\n"
      ],
      "metadata": {
        "id": "-EI1HdSdPLKq"
      },
      "execution_count": 10,
      "outputs": []
    },
    {
      "cell_type": "code",
      "source": [
        "from sqlalchemy import create_engine\n",
        "# Defining the database engine to be used to insert data\n",
        "postgres_str = ('postgresql://{username}:{password}@{ipaddress}:{port}/{dbname}'\n",
        "                .format(username=\"kamulu2\",\n",
        "                        password=\"test\",\n",
        "                        ipaddress=\"34.122.11.163\",\n",
        "                        port=\"5432\",\n",
        "                        dbname=\"eric123\"))\n",
        "engine = create_engine(postgres_str)"
      ],
      "metadata": {
        "id": "_QCzNYMbJ5Kc"
      },
      "execution_count": 11,
      "outputs": []
    },
    {
      "cell_type": "code",
      "source": [
        "df_joined.to_sql(\"equipment_sensor,maintenance_records,network_sensor\",engine, if_exists=\"replace\", index=False)"
      ],
      "metadata": {
        "colab": {
          "base_uri": "https://localhost:8080/"
        },
        "id": "akO9O4yeLkWM",
        "outputId": "5f96af32-3661-4ab9-f0f1-61c61c98375d"
      },
      "execution_count": 12,
      "outputs": [
        {
          "output_type": "execute_result",
          "data": {
            "text/plain": [
              "15"
            ]
          },
          "metadata": {},
          "execution_count": 12
        }
      ]
    }
  ]
}